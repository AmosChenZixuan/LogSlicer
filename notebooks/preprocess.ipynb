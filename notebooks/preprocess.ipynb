{
 "cells": [
  {
   "cell_type": "code",
   "execution_count": 1,
   "metadata": {},
   "outputs": [],
   "source": [
    "import os \n",
    "os.chdir('..')\n",
    "\n",
    "from utils import NestedDefaultdict\n",
    "from loaders import DLTLoader\n",
    "\n",
    "d = DLTLoader(\"logs/dlt/HPA_partnumber not updated.dlt\")\n",
    "msgs = d.get_messages()"
   ]
  },
  {
   "cell_type": "code",
   "execution_count": 5,
   "metadata": {},
   "outputs": [],
   "source": [
    "dlt = NestedDefaultdict(int, 5)\n",
    "\n",
    "\n",
    "# with open(\"logs/dlt/compact_preprocess.txt\", \"w\") as file:\n",
    "for m in msgs:\n",
    "    if m.type_string.decode('utf-8') != 'log' \\\n",
    "        or m.subtype_string.decode('utf-8') not in ('error', 'fatal'):\n",
    "        continue \n",
    "    \n",
    "    dlt[m.ecuid][m.apid][m.ctid][m.seid][m.payload_decoded] += 1 "
   ]
  },
  {
   "cell_type": "code",
   "execution_count": 6,
   "metadata": {},
   "outputs": [],
   "source": [
    "counts = []\n",
    "with open(\"logs/dlt/compact_preprocess.txt\", \"w\") as file:\n",
    "    for ecu_name, ecu in dlt.items():\n",
    "        for app_name, app in ecu.items():\n",
    "            for ctx_name, ctx in app.items():\n",
    "                for ses_name, session in ctx.items():\n",
    "                    counts.append(len(session))\n",
    "                    block_name = f\"{ecu_name} {app_name} {ctx_name} {ses_name}\"\n",
    "                    # print(block_name)\n",
    "                    print(f\"START {block_name} {len(session)}\", file=file)\n",
    "                    for msg, count in session.items():\n",
    "                        print(f\"{count}: {msg}\", file=file)\n",
    "                    print(f\"END {block_name}\", file=file)"
   ]
  },
  {
   "cell_type": "code",
   "execution_count": 7,
   "metadata": {},
   "outputs": [
    {
     "data": {
      "text/plain": [
       "(462, 2392)"
      ]
     },
     "execution_count": 7,
     "metadata": {},
     "output_type": "execute_result"
    }
   ],
   "source": [
    "len(counts), sum(counts)"
   ]
  },
  {
   "cell_type": "code",
   "execution_count": 8,
   "metadata": {},
   "outputs": [
    {
     "data": {
      "text/plain": [
       "3316"
      ]
     },
     "execution_count": 8,
     "metadata": {},
     "output_type": "execute_result"
    }
   ],
   "source": [
    "2392 + 462*2"
   ]
  },
  {
   "cell_type": "code",
   "execution_count": 10,
   "metadata": {},
   "outputs": [],
   "source": [
    "import tiktoken\n",
    "\n",
    "tokenizer = tiktoken.encoding_for_model(\"gpt-4\")"
   ]
  },
  {
   "cell_type": "code",
   "execution_count": 27,
   "metadata": {},
   "outputs": [
    {
     "data": {
      "text/plain": [
       "15"
      ]
     },
     "execution_count": 27,
     "metadata": {},
     "output_type": "execute_result"
    }
   ],
   "source": [
    "text = ''' \n",
    "    END HPA KAW_ SFW 1061110\n",
    "'''\n",
    "len(tokenizer.encode(text))"
   ]
  }
 ],
 "metadata": {
  "kernelspec": {
   "display_name": "logslicer-He69jZ8S-py3.9",
   "language": "python",
   "name": "python3"
  },
  "language_info": {
   "codemirror_mode": {
    "name": "ipython",
    "version": 3
   },
   "file_extension": ".py",
   "mimetype": "text/x-python",
   "name": "python",
   "nbconvert_exporter": "python",
   "pygments_lexer": "ipython3",
   "version": "3.9.18"
  }
 },
 "nbformat": 4,
 "nbformat_minor": 2
}
