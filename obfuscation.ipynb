{
 "cells": [
  {
   "cell_type": "code",
   "execution_count": 1,
   "metadata": {},
   "outputs": [],
   "source": [
    "from loaders import DLTLoader"
   ]
  },
  {
   "cell_type": "code",
   "execution_count": 2,
   "metadata": {},
   "outputs": [],
   "source": [
    "d = DLTLoader(\"logs/dlt/HPA_partnumber not updated.dlt\")\n",
    "msgs = d.get_messages()"
   ]
  },
  {
   "cell_type": "code",
   "execution_count": 3,
   "metadata": {},
   "outputs": [
    {
     "data": {
      "text/plain": [
       "590698"
      ]
     },
     "execution_count": 3,
     "metadata": {},
     "output_type": "execute_result"
    }
   ],
   "source": [
    "num_msg = len(msgs)\n",
    "num_msg"
   ]
  },
  {
   "cell_type": "code",
   "execution_count": 4,
   "metadata": {},
   "outputs": [
    {
     "name": "stdout",
     "output_type": "stream",
     "text": [
      "M:????:???????:??????? Key ??????? and ???????. ?????? is another keyword. ????????????????????????????? ???-???-???????! ###.###.#.#:##### gagagg ?????? \n",
      "     electricdrive??????????????????.?.?.??????????????????????????????????????? \n",
      "     ????::???????:??????????? Manager Main::+ \n",
      "    ????:???:???????:??????????????????????????:?:+\n"
     ]
    }
   ],
   "source": [
    "import re\n",
    "\n",
    "def sub_keywords(text, extension = []):\n",
    "    def replace(match):\n",
    "        return re.sub(r'\\w', '?', match.group(0))\n",
    "    \n",
    "    keywords = [\"HPA\", \"HIA\", \"HIB\", \"hal\", \"csp\", \"zen\", \"IMU\", \"MAM\", \"IMMO\"]\n",
    "    keywords.extend(extension)\n",
    "    pattern = r'(?:' + '|'.join(re.escape(keyword) for keyword in keywords) + r')\\S*\\b'\n",
    "    \n",
    "    return re.sub(pattern, replace, text, flags=re.IGNORECASE)\n",
    "\n",
    "def sub_ip_address(text):\n",
    "    def replace(match):\n",
    "        return re.sub(r'\\d', '#', match.group(0))\n",
    "    \n",
    "    ip_pattern = r'\\b(?:\\d{1,3}\\.){3}\\d{1,3}(?::\\d{1,5})?\\b'\n",
    "    return re.sub(ip_pattern, replace, text)\n",
    "\n",
    "\n",
    "# Example usage\n",
    "text = \"M:MAM1:1061038:Digital Key HIA_asd and ZEN_231. HPA_12 is another keyword. IMUAngularVelocityCompensated hal-srs-monitor! 192.168.1.1:99999 gagagg IMUsad \\n \\\n",
    "    electricdriveimmobilisercontrol.1.0.electricdriveimmobilisercontrol_default \\n \\\n",
    "    IMMO::1061037:Immobilizer Manager Main::+ \\n\\\n",
    "    IMMO:AFW:1061037:Application_framework_core:5:+\"\n",
    "result = sub_ip_address(sub_keywords(text))\n",
    "print(result)"
   ]
  },
  {
   "cell_type": "code",
   "execution_count": 17,
   "metadata": {},
   "outputs": [],
   "source": [
    "with open('obfuscated/obfuscated_full.txt', 'w') as f:\n",
    "    for i in range(num_msg):\n",
    "        msg = msgs[i]\n",
    "        f.write(sub_ip_address(sub_keywords(str(msg), [msg.apid])) + \"\\n\")"
   ]
  },
  {
   "cell_type": "code",
   "execution_count": 6,
   "metadata": {},
   "outputs": [],
   "source": [
    "# keep unique lines\n",
    "\n",
    "unique = set()\n",
    "with open('obfuscated/obfuscated_compact_full.txt', 'w') as f:\n",
    "    for i in range(num_msg):\n",
    "        msg = msgs[i]\n",
    "        payload = msg.payload_decoded\n",
    "        if payload in unique:\n",
    "            continue\n",
    "        print(sub_ip_address(sub_keywords(str(msg), [msg.apid])), file=f)\n",
    "        unique.add(payload)"
   ]
  },
  {
   "cell_type": "code",
   "execution_count": null,
   "metadata": {},
   "outputs": [],
   "source": []
  },
  {
   "cell_type": "code",
   "execution_count": 4,
   "metadata": {},
   "outputs": [],
   "source": [
    "from datetime import datetime\n",
    "\n",
    "def fmt_time(timestamp):\n",
    "\n",
    "    dt_object = datetime.fromtimestamp(timestamp)\n",
    "\n",
    "    return dt_object.strftime('%a %b %d %H:%M:%S %Y')"
   ]
  },
  {
   "cell_type": "code",
   "execution_count": 9,
   "metadata": {},
   "outputs": [
    {
     "name": "stdout",
     "output_type": "stream",
     "text": [
      "_b_base_  ---   None\n",
      "_b_needsfree_  ---   1\n",
      "_fields_  ---   [('found_serialheader', <class 'ctypes.c_byte'>), ('resync_offset', <class 'ctypes.c_int'>), ('headersize', <class 'ctypes.c_int'>), ('datasize', <class 'ctypes.c_int'>), ('headerbuffer', <class 'dlt.core.core_base.c_ubyte_Array_42'>), ('databuffer', <class 'dlt.core.core_base.LP_c_ubyte'>), ('databuffersize', <class 'ctypes.c_uint'>), ('p_storageheader', <class 'dlt.core.core_base.LP_cDltStorageHeader'>), ('p_standardheader', <class 'dlt.core.core_base.LP_cDltStandardHeader'>), ('headerextra', <class 'dlt.core.core_base.cDltStandardHeaderExtra'>), ('p_extendedheader', <class 'dlt.core.core_base.LP_cDltExtendedHeader'>)]\n",
      "_is_extended_header_exists  ---   33\n",
      "_objects  ---   {'1:5': <ctypes.c_char_Array_88 object at 0x7f9b4c24d540>, '0:5': {}, '7': {'1': <dlt.core.core_base.cDltStorageHeader object at 0x7f9b4c24d740>, '0': {}}, '8': {'1': <dlt.core.core_base.cDltStandardHeader object at 0x7f9b4c24d7c0>, '0': {}}, 'a': {'1': <dlt.core.core_base.cDltExtendedHeader object at 0x7f9b4c24df40>, '0': {}}}\n",
      "apid  ---   VMSS\n",
      "compare  ---   <bound method DLTMessage.compare of <dlt.dlt.DLTMessage object at 0x7f9b4c24dd40>>\n",
      "ctid  ---   CTX0\n",
      "ctrl_return_type  ---   82\n",
      "ctrl_return_type_string  ---   b''\n",
      "ctrl_service_id  ---   512\n",
      "ctrl_service_id_string  ---   b''\n",
      "databuffer  ---   <dlt.core.core_base.LP_c_ubyte object at 0x7f9b55142740>\n",
      "databuffersize  ---   88\n",
      "datasize  ---   88\n",
      "ecuid  ---   HPA\n",
      "extendedheader  ---   <dlt.core.core_base.cDltExtendedHeader object at 0x7f9b55142740>\n",
      "extract_sort_data  ---   <function DLTMessage.extract_sort_data at 0x7f9b4c69d550>\n",
      "extract_storageheader  ---   <function DLTMessage.extract_storageheader at 0x7f9b4c69d4c0>\n",
      "found_serialheader  ---   0\n",
      "from_bytes  ---   <function DLTMessage.from_bytes at 0x7f9b4c69d310>\n",
      "headerbuffer  ---   <dlt.core.core_base.c_ubyte_Array_42 object at 0x7f9b55142740>\n",
      "headerextra  ---   <dlt.core.core_base.cDltStandardHeaderExtra object at 0x7f9b55142740>\n",
      "headersize  ---   42\n",
      "initialized_as_object  ---   False\n",
      "is_mode_non_verbose  ---   False\n",
      "is_mode_verbose  ---   1\n",
      "is_type_control  ---   1\n",
      "is_type_control_response  ---   36\n",
      "mcnt  ---   56\n",
      "message_id  ---   0\n",
      "message_id_string  ---   b''\n",
      "mode_string  ---   b'verbose'\n",
      "noar  ---   1\n",
      "p_extendedheader  ---   <dlt.core.core_base.LP_cDltExtendedHeader object at 0x7f9b55142740>\n",
      "p_standardheader  ---   <dlt.core.core_base.LP_cDltStandardHeader object at 0x7f9b55142740>\n",
      "p_storageheader  ---   <dlt.core.core_base.LP_cDltStorageHeader object at 0x7f9b55142740>\n",
      "payload  ---   <dlt.dlt.Payload object at 0x7f9b4c557280>\n",
      "payload_decoded  ---   Cannot get() IMUMeasurementUnitInformation from hal-srs-monitor!, error: -10\n",
      "re_pattern_type  ---   <class 're.Pattern'>\n",
      "resync_offset  ---   0\n",
      "seid  ---   1060987\n",
      "standardheader  ---   <dlt.core.core_base.cDltStandardHeader object at 0x7f9b4c24d5c0>\n",
      "storage_timestamp  ---   1696943529.89\n",
      "storageheader  ---   <dlt.core.core_base.cDltStorageHeader object at 0x7f9b4c24de40>\n",
      "subtype  ---   2\n",
      "subtype_string  ---   b'error'\n",
      "tmsp  ---   977.061\n",
      "to_bytes  ---   <bound method DLTMessage.to_bytes of <dlt.dlt.DLTMessage object at 0x7f9b4c24dd40>>\n",
      "type  ---   0\n",
      "type_string  ---   b'log'\n",
      "use_extended_header  ---   1\n",
      "verbose  ---   0\n"
     ]
    }
   ],
   "source": [
    "m = msgs[-1]\n",
    "for i in dir(m):\n",
    "    if not i.startswith(\"__\"):\n",
    "        print(i, \" ---  \", m.__getattribute__(i))"
   ]
  },
  {
   "cell_type": "code",
   "execution_count": 5,
   "metadata": {},
   "outputs": [],
   "source": [
    "m = msgs[0]"
   ]
  },
  {
   "cell_type": "code",
   "execution_count": 6,
   "metadata": {},
   "outputs": [
    {
     "data": {
      "text/plain": [
       "'Tue Oct 10 12:40:43 2023 921.8996 58 HPA ZQF1 ZQF1 1061101 log warn verbose 1 bazel-out/k8-opt-ST-d9fd4f79f947/bin/deployment/z2_vcc_spa2/service_agents/communication/common/csp/_virtual_includes/csp_property_getter/common/csp_property_getter.h:35: Failed to get property value; group=feature_modes, error code=-1 (kFailure)'"
      ]
     },
     "execution_count": 6,
     "metadata": {},
     "output_type": "execute_result"
    }
   ],
   "source": [
    "str(m)"
   ]
  },
  {
   "cell_type": "code",
   "execution_count": 7,
   "metadata": {},
   "outputs": [
    {
     "data": {
      "text/plain": [
       "'Tue Oct 10 14:40:43 2023 921.8996 58 HPA ZQF1 ZQF1 1061101 log warn verbose 1 bazel-out/k8-opt-ST-d9fd4f79f947/bin/deployment/z2_vcc_spa2/service_agents/communication/common/csp/_virtual_includes/csp_property_getter/common/csp_property_getter.h:35: Failed to get property value; group=feature_modes, error code=-1 (kFailure)'"
      ]
     },
     "execution_count": 7,
     "metadata": {},
     "output_type": "execute_result"
    }
   ],
   "source": [
    "f\"{fmt_time(m.storage_timestamp)} {m.tmsp} {m.mcnt} {m.ecuid} {m.apid} {m.ctid} {m.seid} {m.type_string.decode('utf-8')} \\\n",
    "{m.subtype_string.decode('utf-8')} {m.mode_string.decode('utf-8')} {m.is_mode_verbose} {m.payload_decoded}\""
   ]
  },
  {
   "cell_type": "code",
   "execution_count": 11,
   "metadata": {},
   "outputs": [
    {
     "name": "stdout",
     "output_type": "stream",
     "text": [
      "\n",
      "m.storage_timestamp: Tue Oct 10 14:40:43 2023 OR 1696941643.669 \n",
      "m.tmsp: 921.8996 \n",
      "m.mcnt: 58 \n",
      "m.ecuid: HPA \n",
      "m.apid: ZQF1 \n",
      "m.ctid: ZQF1 \n",
      "m.seid: 1061101 \n",
      "m.type_string: log\n",
      "m.subtype_string: warn \n",
      "m.mode_string: verbose \n",
      "m.is_mode_verbose: 1 \n",
      "m.payload_decoded: bazel-out/k8-opt-ST-d9fd4f79f947/bin/deployment/z2_vcc_spa2/service_agents/communication/common/csp/_virtual_includes/csp_property_getter/common/csp_property_getter.h:35: Failed to get property value; group=feature_modes, error code=-1 (kFailure)\n"
     ]
    }
   ],
   "source": [
    "print(f'''\n",
    "m.storage_timestamp: {fmt_time(m.storage_timestamp)} OR {m.storage_timestamp} \n",
    "m.tmsp: {m.tmsp} \n",
    "m.mcnt: {m.mcnt} \n",
    "m.ecuid: {m.ecuid} \n",
    "m.apid: {m.apid} \n",
    "m.ctid: {m.ctid} \n",
    "m.seid: {m.seid} \n",
    "m.type_string: {m.type_string.decode('utf-8')}\n",
    "m.subtype_string: {m.subtype_string.decode('utf-8')} \n",
    "m.mode_string: {m.mode_string.decode('utf-8')} \n",
    "m.is_mode_verbose: {m.is_mode_verbose} \n",
    "m.payload_decoded: {m.payload_decoded}''')"
   ]
  },
  {
   "cell_type": "code",
   "execution_count": null,
   "metadata": {},
   "outputs": [],
   "source": []
  }
 ],
 "metadata": {
  "kernelspec": {
   "display_name": "logslicer-He69jZ8S-py3.9",
   "language": "python",
   "name": "python3"
  },
  "language_info": {
   "codemirror_mode": {
    "name": "ipython",
    "version": 3
   },
   "file_extension": ".py",
   "mimetype": "text/x-python",
   "name": "python",
   "nbconvert_exporter": "python",
   "pygments_lexer": "ipython3",
   "version": "3.9.18"
  }
 },
 "nbformat": 4,
 "nbformat_minor": 2
}
