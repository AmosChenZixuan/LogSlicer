{
 "cells": [
  {
   "cell_type": "code",
   "execution_count": 1,
   "metadata": {},
   "outputs": [],
   "source": [
    "import tiktoken\n",
    "import openai\n",
    "\n",
    "from loaders import DLTLoader"
   ]
  },
  {
   "cell_type": "code",
   "execution_count": 2,
   "metadata": {},
   "outputs": [],
   "source": [
    "openai.api_type = \"azure\"\n",
    "openai.api_base = \"https://vlv-openai-uk.openai.azure.com/\"\n",
    "openai.api_version = \"2023-07-01-preview\"\n",
    "openai.api_key = \"a6a806d247084cf689348423a6345be4\" #os.getenv(\"OPENAI_API_KEY\")\n",
    "\n",
    "max_tokens = 8080\n",
    "model_token_limit = 8192\n",
    "chat_model = \"gpt-4\"\n",
    "prompt = '''You are a senior software engineer. Your task is to summarize logs.\n",
    "                    You should point out things that are causing errors and warnings. You should also provide suggestions or solutions if there are any. You are very\n",
    "                    detailed and thorough looking at errors and best practices. The summary should be short and to the point. You have\n",
    "                    knowledge of all programming languages and file formats so you have to\n",
    "                    adapt to whatever is given to you. The log summary output should be in well \n",
    "                    formatted Markdown in a text window and the column width of the output \n",
    "                    should be max 100 characters.'''"
   ]
  },
  {
   "cell_type": "code",
   "execution_count": 3,
   "metadata": {},
   "outputs": [],
   "source": [
    "# Initialize the tokenizer\n",
    "tokenizer = tiktoken.encoding_for_model(chat_model)\n",
    "\n",
    "# Split the token integers into chunks based on max_tokens\n",
    "chunk_size = max_tokens - len(tokenizer.encode(prompt))\n"
   ]
  },
  {
   "cell_type": "code",
   "execution_count": 4,
   "metadata": {},
   "outputs": [],
   "source": [
    "d = DLTLoader(\"logs/HPA_partnumber not updated.dlt\")\n",
    "\n",
    "chunks = []\n",
    "cur_chunk = []\n",
    "cur_chunk_size = 0\n",
    "\n",
    "for msg in d.get_messages():\n",
    "    payload = msg.payload_decoded\n",
    "    tokens = tokenizer.encode(payload)\n",
    "    if cur_chunk_size + len(tokens) <= chunk_size:\n",
    "        cur_chunk.append(payload)\n",
    "        cur_chunk_size += len(tokens)\n",
    "    else:\n",
    "        chunks.append(\"\\n\".join(cur_chunk))\n",
    "        cur_chunk = [payload]   \n",
    "        cur_chunk_size = len(tokens) "
   ]
  },
  {
   "cell_type": "code",
   "execution_count": 5,
   "metadata": {},
   "outputs": [
    {
     "data": {
      "text/plain": [
       "7305"
      ]
     },
     "execution_count": 5,
     "metadata": {},
     "output_type": "execute_result"
    }
   ],
   "source": [
    "len(chunks)"
   ]
  },
  {
   "cell_type": "markdown",
   "metadata": {},
   "source": [
    "## meaningless line taking too many tokens"
   ]
  },
  {
   "cell_type": "code",
   "execution_count": 15,
   "metadata": {},
   "outputs": [
    {
     "data": {
      "text/plain": [
       "2406"
      ]
     },
     "execution_count": 15,
     "metadata": {},
     "output_type": "execute_result"
    }
   ],
   "source": [
    "t = tokenizer.encode(\"FLDA 1267893949 30 54'ae'a0'1a'97'5e'c2'ef'f1'50'50'8d'd3'd8'1e'50'b0'e5'b8'c9'67'37'9c'4c'5a'c6'f9'4e'13'77'a6'12'3d'72'cc'a4'51'23'26'8f'b9'64'94'6a'9f'30'22'2b'63'f2'b0'49'93'35'93'44'a0'7d'd4'f8'91'9a'22'1d'87'8f'9b'30'62'6c'56'c6'a8'89'e6'54'6c'bf'78'58'ba'd9'de'ee'78'bc'29'b7'76'c7'e3'4d'f6'd6'c2'3e'6a'fc'e4'49'97'69'2d'24'7e'f4'b8'09'97'9e'58'2c'db'4f'28'56'8b'0b'c6'9b'1b'11'17'8c'37'db'7d'41'fb'88'09'17'a7'0f'1b'21'73'8a'21'fb'09'd5'd1'1c'63'47'99'0d'2c'ee'4b'86'8d'9b'a2'f4'31'8a'67'd8'f8'11'69'13'26'9d'18'3f'6c'dc'98'61'19'27'c6'3b'26'0f'bb'f0'44'2b'e4'93'31'62'd8'b8'61'27'e6'63'8d'6f'4b'fb'bf'df'f8'9e'6d'51'7f'07'b3'97'89'fd'53'b5'82'67'2a'6a'7e'95'8b'f9'3e'84'82'6a'5c'6d'a9'b0'37'29'a8'c6'15'2d'e2'fb'19'0a'aa'71'4d'bc'9f'f5'2f'30'e3'99'8a'ba'1f'2f'df'24'd2'd7'29'78'a6'62'6d'97'2d'ed'd6'76'f9'6b'72'c2'bc'bf'91'e7'bb'82'ea'3c'ad'ad'e2'ed'47'c1'33'15'35'3f'5f'f7'0e'94'3e'5b'41'f5'78'37'f0'40'27'e1'57'd0'9a'f7'2d'ed'ff'7e'f3'de'1a'df'96'76'6b'7c'ad'f1'15'f2'ff'cb'f8'5a'62'09'4a'26'5f'e7'b4'c4'12'4b'2c'b1'c4'12'4b'2c'b1'c4'92'ff'68'a9'9c'41'c7'c5'55'e7'89'eb'68'99'63'72'89'17'31'56'30'56'33'ee'67'ac'97'9c'df'17'78'b6'fe'7f'a0'ea'f2'dc'93'ae'0f'f0'54'27'24'20'a6'30'5e'c9'78'1d'e3'3d'8c'6f'32'36'f9'f9'3a'b6'56'fb'72'03'e0'61'ce'e7'39'73'b6'c1'eb'7c'81'40'3c'c5'fb'e0'23'9f'c5'8e'f2'05'7c'7e'82'7a'd6'b7'6a'6f'be'ce'58'e7'4b'd0'2c'b1'c4'12'4b'fe'83'a5'94'7f'3f'a4'9c'76'3d'6a'63'5d'08'af'47'6d'e4'c7'dc'9d'6a'3d'ea'db'9d'8f'af'47'7d'3d'14'd7'17'42'ba'0b'23'e0'77'67'82'08'f0'cb'17'64'68'f8'0c'43'67'08'b8'0c'97'f3'59'5c'42'e7'b2'0f'86'14'b6'cb'0d'c8'62'0e'2d'71'74'85'ac'80'9f'13'db'28'b4'cc'4d'01'8b'ad'3f'aa'05'f8'4f'0b'b6'1f'1c'b8'da'0b'af'6b'da'8c'70'50'4b'cb'31'89'dd'f9'22'e4'65'6b'83'96'32'5c'1a'c8'2b'54'6d'b8'3c'd2'be'18'97'a5'da'3e'f6'80'ba'04'97'27'1a'46'48'6d'28'82'f3'29'48'60'e8'8e'f7'c0'65'bb'14'73'de'f6'1a'fa'75'd7'bb'68'19'09'ad'b0'ef'38'84'89'd1'6c'bf'07'97'5d'db'9e'0a'03'f5'c0'2c'51'd3'65'4e'6a'49'1d'b6'c4'6b'1f'00'b9'86'b8'6c'3f'40'ba'90'65'59'18'7c'01'74'4b'c8'ba'08'a8'85'e3'33'37'7c'6d'd6'b1'be'ce'89'90'bd'cb'b1'5b'cf'05'87'eb'cf'90'07'e8'5d'b1'8f'5d'53'42'89'e0'fb'a1'ec'ae'41'11'41'e2'd0'1c'98'08'98'5f'a7'1a'7e'88'35'fc'62'bd'ae'39'3b'7d'86'25'fd'1d'aa'ef'6a'ff'36'aa'77'41'77'b9'3a'ee'41'f5'4e'54'3b'e1'f2'66'5b'34'd4'db'e5'a3'5a'45'a1'da'99'5a'f3'1c'aa'dd'3e'00'35'd4'8e'1d'17'da'fb'16'48'e2'ee'85'77'd2'dc'f7'e3'a0'86'7d'0a'05'1e'b3'85'f5'b2'13'94'43'53'bd'dd'c3'1e'0a'41'f0'0c'00'b8'c6'f3'84'1d'bf'9f'83'1a'54'95'7a'da'bb'08'1e'87'e6'de'5a'ea'49'72'12'3c'07'99'de'52'ea'f1'39'08'de'84'90'cd'a5'9e'36'11'04'af'40'c8'43'8b'3c'e3'5c'04'3f'43'91'0f'2e'f2'2c'71'13'ec'03'df'03'8b'3c'cf'e9'04'8f'43'9b'ef'5f'e4'79'29'84'e0'36'60'0d'bf'bf'c6'73'a3'5b'60'77'e0'4d'f7'5f'e3'19'6d'27'd4'6c'c3'21'55'68'fa'b3'd8'5f'76'fb'8f'b8'86'b4'37'f4'ae'fb'66'5c'df'6c'9b'8e'4d'eb'72'00'9c'e1'ad'71'e4'71'5c'c2'02'5d'a0'75'ee'a9'f8'0c'1f'37'be'83'4c'73'67'40'80'ee'be'd1'83'df'b8'f4'd8'70'f7'c4'fc'dc'2b'20'8d'cd'9d'80'99'ba'd3'71'46'b8'6f'c7'5c'dc'45'38'e0'ee'3b'23'f0'fb'66'f0'3a'dc'01'1c'36'2d'42'33'c2'b2'27'42'ee'91'23'21'f7'b0'9c'95'38'da'91'f8'9e'f3 FLDA\")\n",
    "len(t)"
   ]
  },
  {
   "cell_type": "code",
   "execution_count": 20,
   "metadata": {},
   "outputs": [
    {
     "name": "stdout",
     "output_type": "stream",
     "text": [
      "9284\n",
      "7232\n",
      "FLDA 1267893949 3 ce'fc'f4'b7'd3'cb'fc'd1'd9'f9'8d'ea'ac'ea'b2'22'7e'59'2b'ff'8b'9f'4c'e7'e2'59'd5'93'ea'f9'93'29'ff'c0'19'e9'39'66'f5'cc'1d'ab'96'df'88'fc'e7'a6'c1'75'41'99'7f'6f'd5'ca'7f'ee'bd'69'71'5d'99'ff'73'29'ff'c4'9f'4b'8b'57'16'f9'1d'91'7f'46'e4'bf'a8'96'bf'bb'71'ca'68'33'7d'70'e5'0f'5e'9f'd6'dc'32'33'56'0e'e6'8f'9f'b8'b2'95'ff'ee'28'57'55'03'0b'c4'df'55'd6'af'25'b7'df'81'03'f7'd4'db'77'f0'b8'9e'd6'75'79'd9'69'ad'74'74'd9'2f'cc'ac'9c'95'3f'b6'bb'55'ef'7f'7a'e8'3d'51'ff'5f'aa'd5'af'ca'fd'73'4f'4a'bb'aa'37'd7'f7'3f'9d'fb'6f'9e'fc'c6'11'91'7f'f4'dc'f9'1d'e9'b8'66'aa'f6'b3'73'e6'57'5d'd1'3f'07'ee'9d'3b'bf'91'da'ff'4d'e9'38'0e'ad'df'7b'a2'7f'52'fb'34'f3'cf'99'73'7c'1d'38'a3'99'f6'1c'b2'fd'aa'2b'f2'3f'3c'4f'7e'a3'39'ee'0e'7c'f3'db'7f'7c'd4'dc'f9'd5'a3'47'b4'e2'ef'a9'ad'ac'ce'6f'fd'f7'0d'dd'f9'fe'b8'aa'b5'bc'27'96'a7'f2'fa'97'a6'b4'33'd2'd4'ca'b3'34'af'75'33'15'eb'3f'b8'e6'c8'94'a4'ef'cc'd7'e6'b8'8e'2b'5a'cb'0f'c4'f2'91'd7'a5'f4'f9'd7'2d'70'7f'6e'be'86'9a'd9'fe'8b'0f'ae'a9'6d'ff'de'eb'ea'db'af'36'a4'e5'2b'22'7d'ed'86'05'b6'7f'72'd5'da'7e'77'7b'45'7d'fb'1f'dc'50'df'fe'ba'eb'e3'b9'23'd2'f7'5d'bf'c0'f6'1f'5f'b5'b6'7f'dd'c1'35'b5'ed'7f'e7'fa'fa'f6'07'5f'96'96'df'1b'e9'd7'5f'b6'c0'f6'4f'a9'5a'db'bf'fe'e0'9a'da'f6'cf'7f'79'7d'fb'bb'63'f9'e1'48'cf'ba'61'81'ed'3f'a1'6a'6d'ff'e5'07'd7'd4'b6'bf'e5'86'fa'f6'f7'c5'f2'e9'f1'7c'f2'33'1b'1f'7b'fb'cd'8c'ae'2a'9d'03'b5'9b'6f'8c'bf'd9'f9'f9'97'14'4d'97'46'7e'd7'b1'71'de'2f'90'8e'1e'66'3a'79'98'69'75'dc'e1'a5'5d'87'99'8e'1e'66'3a'79'98'69'75'fc'e1'a5'5d'87'99'8e'1e'66'3a'79'98'69'75'c2'e1'a5'5d'87'99'8e'1e'66'3a'79'98'69'75'e2'e1'a5'5d'87'99'8e'1e'66'3a'79'98'e9'91'33'7f'9a'9f'a4'9b'6f'33'9a'ef'03'fe'b9'b3'a3'3a'67'fc'84'aa'7a'da'c1'df'6f'7d'67'66'dd'51'53'2b'd3'75'30'be'17'4f'df'9d'd2'6f'1c'31'f7'9f'99'fb'ef'ec'29'62'fb'3a'db'dc'4f'f3'b9'20'5f'33'47'c7'76'7e'b8'f5'a5'f9'e2'ae'd6'83'f4'e4'13'8e'a8'e6'b2'a2'58'de'7b'6e'fa'3d'fe'f4'6b'96'd7'e7'46'93'9b'5a'c9'61'4d'98'66'69'b6'cf'c8'f1'69'0e'da'6c'9f'e6'76'f7'cf'1c'c4'd7'66'0e'60'70'f6'85'3f'e4'55'1d'7b'4e'6d'b5'cf'e8'c5'2b'ca'aa'b4'96'f7'7e'e5'd4'fa'6c'2c'da'35'17'de'38'91'be'eb'ee'7e'7f'51'2e'5c'18'e9'ac'76'd9'39'7b'7d'd7'55'e9'fb'59'd7'87'52'7c'ae'4f'96'cb'3d'3b'af'88'ef'6d'd7'e4'e5'47'd2'f7'9b'8e'c9'53'e7'ac'47'8e'7f'45'5e'11'df'6d'6e'89'c5'fd'47'a7'f7'e4'bb'3f'9a'e2'72'3d'e6'8d'8f'f7'ea'af'8b'c5'ee'b5'e9'7d'6b'd7'9f'45'fd'27'17'88'8f'f7'b3'6f'89'c5'b1'5f'4a'ef'fb'f6'fe'79'd4'ff'a3'0b'c4'c7'ef'eb'de'1d'8b'dd'57'a4'df'a3'0d'7e'32'ea'ff'67'0b'ed'3f'95'ff'40'2c'ae'dc'9e'7e'5f'b6'f2'2f'52'5c'ae'c7'bc'f1'f1'7b'b4'a9'58'dc'78'5e'fa'fd'd6'f8'83'29'2e'd7'a3'8c'6f'f7'5f'fc'4e'2c'7e'9d'51'f5'dc'98'7e'8f'b5'ee'a1'14'97'eb'51'c6'b7'f7'1f'bf'df'7a'34'16'57'7e'2d'fd'be'6a'ea'33'29'2e'd7'63'de'f8'f8'5d'd5'c9'31'80'f7'be'27'fd'7e'69'eb'df'a6'b8'5c'8f'79'e3'e3'f7'4e'4f'8f'f8'55'bf'1b'df'3d'3e'9b'e2'72'3d'b2'35'87'c4'a7'f2'cf'8e'f8'b1'2b'd2'ef'6f'ee'ff'7c'8a'cb'f5'98'37'3e'7e'af'f3'8a'88'bf'ef'95'e9'f7'2d'1d'fb'22'ee'b3'73'c7'ef'ca'27'6c'fc'1e'e6'be'bc'7c'4d'fa'fd'c8'ee'7f'48'71'b9'1e'f3'c6'c7'ef'4d'de'11'cb'dd'a7'a5'df'67'74'7d'29'c6'ff'be'05'e2'e3'f7'1c'1f'ce'f5'ff FLDA\n",
      "FLDA 1267893949 4 44'fa'fd'43'be'ce'e4'7a'94'f1'07'fb'2f'5d'7a'3e'1d'f1'a3'7f'91'7e'0f'36'f8'b5'18'ff'5f'9a'bb'ff'f6'e6'fd'c7'ef'2d'be'19'cb'7b'7e'36'fd'ce'60'e5'37'62'fc'7f'65'ee'fd'f7'e6'15'f1'bb'84'1f'44'fc'03'1b'd3'77'fc'f1'6f'c6'f8'ff'da'dc'f1'ed'f1'1f'df'fd'57'c4'05'78'ff'af'a5'ef'e4'eb'be'15'e3'ff'1b'0b'1c'7f'7c'57'7f'4a'c4'af'fa'41'fa'ee'3d'f5'9d'18'ff'df'5c'20'3e'be'3f'77'46'fc'c4'0f'd2'f7'e1'ad'df'8d'f1'ff'ad'05'e2'e3'fb'6e'77'c4'3f'70'5f'7c'0f'fd'7e'8c'ff'ef'2c'10'1f'df'4f'6f'ca'9f'97'7e'2e'7d'0f'b8'ff'd1'18'ff'df'5d'20'3e'be'1f'ec'88'f8'8d'df'48'df'01'3b'aa'd3'52'dc'f7'17'1a'3f'e9'7b'dc'eb'23'7e'cf'b5'e9'bb'd7'ee'e5'29'3e'd7'a3'8c'6f'f7'5f'7c'27'7b'53'c4'ef'fd'4a'fa'8e'd5'b5'22'c5'b7'eb'51'c4'1f'dc'7f'fa'9e'f4'ce'88'bf'ef'3d'e9'bb'4d'c7'c9'29'2e'd7'a3'8c'6f'9f'3f'f1'9d'e7'83'f9'06'fe'2f'f5'ef'30'b9'1e'59'8e'df'9b'cb'77'5f'73'55'b5'66'60'70'64'4d'ef'e0'e0'f0'9a'9b'fa'77'ac'e9'df'31'3c'd2'bb'6d'5b'ef'48'ff'c0'8e'4d'db'7b'87'47'fa'86'36'6d'1e'da'35'38'32'50'6d'eb'bf'69'78'60'f3'6d'7d'23'17'0e'0f'5c'78'49'b5'66'70'68'60'f3'9a'e6'2b'c7'35'cd'ac'bb'06'b6'dd'3c'3c'bc'ad'99'b7'36'6d'73'f3'f0'e0'9a'99'8c'56'ee'cc'df'37'0d'df'7c'd7'a6'99'98'9d'bb'9a'65'9e'39'7b'ed'e6'81'a1'be'da'ca'de'59'2b'd7'e6'95'db'06'6e'd9'b4'79'e7'ce'e6'ba'8b'f2'ba'91'fe'ed'7d'79'65'67'73'e5'8e'3b'07'86'67'16'da'5b'1f'd8'de'd7'3f'93'f4'0d'f5'f7'6e'eb'bf'bb'75'58'b5'0d'cc'1c'eb'c0'e6'de'91'81'a1'e6'da'8b'f3'da'ed'7d'23'43'fd'9b'87'6b'25'6f'1e'18'da'de'3b'92'77'd6'2e'da'37'34'34'30'34'bc'e9'a6'de'e1'be'5a'ed'ee'ec'db'da'bf'79'5b'5f'ff'96'be'1d'23'fd'37'f7'6f'6e'ed'ba'7f'c7'cd'03'cd'da'1d'6c'f3'76'03'f5'0e'6d'1e'd8'71'73'ff'2d'33'ff'dd'd1'b7'39'55'a8'96'd1'3c'88'3b'fb'37'f7'b5'db'b0'5d'b1'59'f5'6c'fe'ed'd2'6a'cd'1d'c3'43'ad'2d'6f'db'72'fb'8e'9d'17'3c'e3'd2'83'35'3e'ef'bc'76'e1'ed'a9'1f'67'f5'c3'd0'1d'3b'9a'0d'da'ee'8a'5d'bd'db'b7'5d'b0'79'70'b0'd5'ba'17'3e'a3'b9'aa'6f'fb'a6'99'7a'6f'9a'19'24'23'33'c7'bb'ad'7f'e6'e8'36'45'89'76'4b'b5'3a'aa'bd'66'cb'b6'91'5a'83'a5'2e'6b'77'd8'f0'4c'e9'8b'6b'e1'cd'9a'0c'8f'dc'71'd3'c1'11'31'b0'7d'70'60'47'73'4f'37'f7'36'5b'66'f6'c1'cf'aa'f6'a6'fe'c1'cd'29'a6'36'fc'66'4a'a4'71'df'51'ed'39'ea'c1'5d'7f'f3'e0'2d'7f'b8'fc'a4'df'7b'e8'4d'47'7d'e3'84'e6'ba'df'7a'e8'fa'3d'bf'32'35'f2'bd'c6'43'7f'f5'b9'4f'f7'df'fa'6b'cd'75'bf'71'e7'db'46'9f'ff'7f'2d'5f'f7'47'2b'9e'77'cb'b1'f7'ff'c5'4f'37'd7'0d'7d'e4'fe'cf'4c'7d'6d'ea'5b'7f'f3'77'eb'df'ff'8e'5b'4f'fe'5a'73'dd'17'8f'bc'e2'e2'b3'5e'f9'0b'3d'3f'fb'97'2f'79'ee'c0'51'c7'fe'66'73'dd'2f'8c'fc'c1'1b'c7'be'7a'ea'4d'df'bf'7b'f4'ff'7e'ce'e9'df'3c'a3'b9'ee'9e'2f'75'3c'eb'37'f7'de'b3'7a'e8'df'9d'fa'b5'bb'be'7c'eb'de'e6'ba'93'37'f6'ff'e9'7f'78'c2'c4'6f'5f'f1'73'd7'de'f8'e9'0b'9b'ff'f0'ef'94'ea'a1'cf'bf'e7'4f'ae'fc'fc'4d'9f'7a'f8'a9'ff'fc'81'c1'bd'e7'fe'bf'97'7c'f6'5f'5e'de'2c'fb'8e'db'ff'62'cf'9b'fe'f2'af'f6'7f'7d'e4'17'1f'fa'fb'7f'fa'da'8d'cd'75'1b'6e'7f'f8'1f'7e'eb'94'55'ff'f2'ce'af'bf'fd'a2'dd'0f'7d'f5'e2'e6'ba'd7'7c'f1'b5'6f'f9'f6'f4'da'47'37'ef'b8'7f'7b'ff'85'ef'ff'40'73'dd'55'57'bc'e1'17'ff'fc'ab'97'7f'e2'd8'2b'ff'fa'91'bb'6e'3c'e6'b7'9a'eb'5e'f1'b9'df'b9'e6'59'4f'5d'ff'a6'b7'ad'f8'ea'7f'fd'9b'ce'cf FLDA\n",
      "FLDA 1267893949 5 ae'6f'ae'7b'f5'fe'b7'de'f4'c7'bf'f7'b6'bd'4f'78'ee'7f'7a'ce'6b'fe'e0'67'36'34'd7'bd'f8'93'c7'3d'eb'bf'fc'fa'6f'6c'b9'f5'0b'2f'dc'f5'b6'37'de'7b'5f'73'dd'd6'77'9d'fb'ab'2f'fd'93'15'0f'1f'fb'e1'95'e7'fe'e3'0b'6e'bc'b9'b9'ae'f3'dd'1f'78'e5'5f'af'bd'fb'9b'1f'f8'f5'bf'9f'f8'b5'eb'3f'fb'd4'e6'ba'e3'5e'f0'94'37'f4'ee'be'e1'fc'c6'cf'7f'ed'73'6f'3f'fe'77'3b'9a'eb'ce'6c'9c'fa'bc'3f'fd'd5'57'6f'78'f5'db'ae'da'f9'e4'47'2f'd8'df'5c'd7'fd'd7'47'f6'9e'fd'f6'33'6f'7d'f1'ea'b7'8d'9c'3b'b2'ee'b2'e6'ba'27'fd'bb'3f'1f'fb'f9'd7'fc'fd'eb'96'f7'f4'fd'fe'55'97'3f'f1'75'cd'75'e7'fc'e4'bb'6e'1c'f8'6f'ab'6f'bb'e9'a3'03'b7'55'9f'b8'e5'd6'e6'ba'37'ff'fb'b7'0d'ff'87'87'ff'70'd5'db'57'7d'f0'63'5f'ff'fd'8f'dc'd6'5c'77'fc'71'17'7f'fd'43'37'74'7d'79'f9'8a'df'bd'e0'0d'5f'dc'fa'ae'e6'ba'f7'7d'6a'cf'db'df'f1'8a'a7'bd'7a'e8'93'4f'7c'cb'86'cd'43'df'6b'ae'bb'f5'c8'73'36'fd'ea'ef'bf'fb'86'3d'ff'f9'd3'e7'be'b1'ef'a3'5f'6e'ae'fb'a5'de'53'3f'f9'92'17'be'e4'ec'a3'5e'fe'07'eb'de'f3'aa'fe'27'37'd7'1d'b3'e1'cc'b7'be'fe'8b'2f'fe'f9'77'fc'e9'4f'1e'f1'cb'77'3c'b7'b7'b9'ee'bf'ee'f8'db'd5'9f'7a'd2'87'af'5b'fb'e6'ef'ef'3c'e9'98'3f'f9'6c'73'dd'eb'5e'd6'b3'fe'6f'7f'ea'1f'df'f8'85'2f'7d'e7'92'15'9b'df'78'71'9e'a3'36'7f'69'91'e7'a8'cd'cb'f6'eb'ab'c6'4c'7a'6c'b5'e7'7b'e9'd9'ab'67'dd'd7'd3'c7'c4'f8'b7'ef'63'f7'c4'6f'9b'bb'bb'5a'c9'29'a7'2c'3f'62'75'6b'46'57'7b'67'77'20'56'fd'2f'33'f9'd0'2f'b4'e6'b4'8d'0f'3d'a7'fe'71'a8'e7'1f'9f'd8'4c'9a'73'c9'd9'93'c2'fc'7d'33'1f'47'6f'a8'16'29'b7'4f'73'67'cd'f6'c9'f1'63'e7'd6'ff'cd'fa'ba'1f'a4'67'ba'd1'd7'9d'51'bb'97'e5'7f'3b'7c'ee'cc'94'7f'd9'4c'cb'ac'7a'66'6a'c7'74'91'7c'de'9d'bd'fd'db'7a'6f'da'd6'b7'7e'6b'ef'8e'5b'fa'b6'5c'de'58'df'3b'b4'be'75'1d'6d'a4'eb'e8'd6'8f'd4'ff'ad'd7'e4'8d'e9'38'76'e7'7e'79'76'f4'4b'fc'86'7b'f4'ee'b4'ff'ab'df'15'f7'd4'62'7d'ae'5f'57'ae'67'fe'6d'fb'c4'd3'5a'e9'23'd7'a6'ed'e5'fe'be'fe'57'2e'ab'f5'7f'6e'c7'aa'f9'd9'ac'4a'ed'b3'72'a6'c3'9b'7d'd2'6c'9f'd1'67'a7'7f'0b'd7'13'69'e3'bc'0b'ce'ec'3c'ff'59'97'6f'8a'a0'ad'b7'6e'1b'b9'fb'da'db'ab'd3'aa'af'1e'68'fe'af'ca'56'36'46'97'cf'fc'89'a5'd1'f6'3f'4d'5b'c0'f2'88'5b'5e'8f'ff'57'b3'ec'c8'8e'ae'd9'7f'66'7a'ea'77'aa'd1'd6'c1'8c'ce'3a'a4'45'1f'df'bf'55'73'5d'57'9a'd7'85'65'69'd8'54'9d'a7'a4'77'37'13'c7'c6'ff'27'46'fc'7f'55'8c'ad'89'e5'f4'db'af'23'57'ac'58'7e'd4'b1'f1'26'e6'c0'c1'6f'0a'f3'7f'bb'78'0c'a7'34'52'bd'9a'f5'38'bb'7c'8b'f5'07'17'bd'f7'f4'99'64'fc'17'8b'0b'd6'53'7e'73'dd'07'ab'1f'fd'75'25'ef'75'6f'b4'c7'f4'81'a4'eb'b8'b4'bc'3f'96'db'1b'88'eb'ca'ea'a8'56'ae'cf'fb'3e'f0'a9'd6'ff'8b'49'f9'4e'af'91'1e'82'1a'23'03'8d'd6'a3'db'c3'7f'5a'bf'ae'ac'9b'4a'd7'af'c6'29'c5'3b'b5'7d'f1'6f'97'e2'9d'd9'44'5c'47'72'bd'f2'fa'ab'6f'7b'42'5a'7f'e2'3c'ff'df'28'21'f7'f7'd8'9b'97'd7'fa'bf'b3'd8'6f'79'5d'19'2e'b8'ae'fc'ff'f3'ba'02'00'00'00'00'00'00'00'00'00'00'00'00'00'00'00'00'00'00'00'00'00'00'00'00'00'00'00'00'00'00'00'00'00'00'00'00'00'00'00'00'00'00'00'00'00'00'00'00'00'00'00'00'00'00'00'00'00'00'00'00'00'00'00'00'00'00'00'00'00'00'00'00'00'00'00'00'00'00'00'00'00'00'00'00'00'00'00'00'00'00'00'00'00'00'00'00'00'00'00'00'00'00'00'00'00'00'00'00'00'00'00'00'00'00'00'00'00'00'00'00'00'00'00 FLDA\n"
     ]
    }
   ],
   "source": [
    "for c in chunks:\n",
    "    if len(c) < 10000:\n",
    "        print(len(c))\n",
    "        print(len(tokenizer.encode(c)))\n",
    "        print(c)\n",
    "        break"
   ]
  },
  {
   "cell_type": "code",
   "execution_count": 9,
   "metadata": {},
   "outputs": [
    {
     "data": {
      "text/plain": [
       "15183.257768651609"
      ]
     },
     "execution_count": 9,
     "metadata": {},
     "output_type": "execute_result"
    }
   ],
   "source": [
    "sum(map(len, chunks)) / len(chunks)"
   ]
  },
  {
   "cell_type": "code",
   "execution_count": 10,
   "metadata": {},
   "outputs": [
    {
     "data": {
      "text/plain": [
       "(110938834, 110911815)"
      ]
     },
     "execution_count": 10,
     "metadata": {},
     "output_type": "execute_result"
    }
   ],
   "source": [
    "110938834, 15183 * 7305"
   ]
  },
  {
   "cell_type": "markdown",
   "metadata": {},
   "source": [
    "# test APIs calls"
   ]
  },
  {
   "cell_type": "code",
   "execution_count": 31,
   "metadata": {},
   "outputs": [
    {
     "ename": "InvalidRequestError",
     "evalue": "Must provide an 'engine' or 'deployment_id' parameter to create a <class 'openai.api_resources.chat_completion.ChatCompletion'>",
     "output_type": "error",
     "traceback": [
      "\u001b[0;31m---------------------------------------------------------------------------\u001b[0m",
      "\u001b[0;31mInvalidRequestError\u001b[0m                       Traceback (most recent call last)",
      "Cell \u001b[0;32mIn[31], line 26\u001b[0m\n\u001b[1;32m     24\u001b[0m \u001b[38;5;66;03m# Add the final \"ALL PARTS SENT\" message\u001b[39;00m\n\u001b[1;32m     25\u001b[0m messages\u001b[38;5;241m.\u001b[39mappend({\u001b[38;5;124m\"\u001b[39m\u001b[38;5;124mrole\u001b[39m\u001b[38;5;124m\"\u001b[39m: \u001b[38;5;124m\"\u001b[39m\u001b[38;5;124muser\u001b[39m\u001b[38;5;124m\"\u001b[39m, \u001b[38;5;124m\"\u001b[39m\u001b[38;5;124mcontent\u001b[39m\u001b[38;5;124m\"\u001b[39m: \u001b[38;5;124m\"\u001b[39m\u001b[38;5;124mALL PARTS SENT\u001b[39m\u001b[38;5;124m\"\u001b[39m})\n\u001b[0;32m---> 26\u001b[0m response \u001b[38;5;241m=\u001b[39m \u001b[43mopenai\u001b[49m\u001b[38;5;241;43m.\u001b[39;49m\u001b[43mChatCompletion\u001b[49m\u001b[38;5;241;43m.\u001b[39;49m\u001b[43mcreate\u001b[49m\u001b[43m(\u001b[49m\u001b[43mmodel\u001b[49m\u001b[38;5;241;43m=\u001b[39;49m\u001b[43mchat_model\u001b[49m\u001b[43m,\u001b[49m\u001b[43m \u001b[49m\u001b[43mmessages\u001b[49m\u001b[38;5;241;43m=\u001b[39;49m\u001b[43mmessages\u001b[49m\u001b[43m)\u001b[49m\n\u001b[1;32m     27\u001b[0m final_response \u001b[38;5;241m=\u001b[39m response\u001b[38;5;241m.\u001b[39mchoices[\u001b[38;5;241m0\u001b[39m]\u001b[38;5;241m.\u001b[39mmessage[\u001b[38;5;124m\"\u001b[39m\u001b[38;5;124mcontent\u001b[39m\u001b[38;5;124m\"\u001b[39m]\u001b[38;5;241m.\u001b[39mstrip()\n\u001b[1;32m     28\u001b[0m responses\u001b[38;5;241m.\u001b[39mappend(final_response)\n",
      "File \u001b[0;32m~/.cache/pypoetry/virtualenvs/logslicer-He69jZ8S-py3.9/lib/python3.9/site-packages/openai/api_resources/chat_completion.py:25\u001b[0m, in \u001b[0;36mChatCompletion.create\u001b[0;34m(cls, *args, **kwargs)\u001b[0m\n\u001b[1;32m     23\u001b[0m \u001b[38;5;28;01mwhile\u001b[39;00m \u001b[38;5;28;01mTrue\u001b[39;00m:\n\u001b[1;32m     24\u001b[0m     \u001b[38;5;28;01mtry\u001b[39;00m:\n\u001b[0;32m---> 25\u001b[0m         \u001b[38;5;28;01mreturn\u001b[39;00m \u001b[38;5;28;43msuper\u001b[39;49m\u001b[43m(\u001b[49m\u001b[43m)\u001b[49m\u001b[38;5;241;43m.\u001b[39;49m\u001b[43mcreate\u001b[49m\u001b[43m(\u001b[49m\u001b[38;5;241;43m*\u001b[39;49m\u001b[43margs\u001b[49m\u001b[43m,\u001b[49m\u001b[43m \u001b[49m\u001b[38;5;241;43m*\u001b[39;49m\u001b[38;5;241;43m*\u001b[39;49m\u001b[43mkwargs\u001b[49m\u001b[43m)\u001b[49m\n\u001b[1;32m     26\u001b[0m     \u001b[38;5;28;01mexcept\u001b[39;00m TryAgain \u001b[38;5;28;01mas\u001b[39;00m e:\n\u001b[1;32m     27\u001b[0m         \u001b[38;5;28;01mif\u001b[39;00m timeout \u001b[38;5;129;01mis\u001b[39;00m \u001b[38;5;129;01mnot\u001b[39;00m \u001b[38;5;28;01mNone\u001b[39;00m \u001b[38;5;129;01mand\u001b[39;00m time\u001b[38;5;241m.\u001b[39mtime() \u001b[38;5;241m>\u001b[39m start \u001b[38;5;241m+\u001b[39m timeout:\n",
      "File \u001b[0;32m~/.cache/pypoetry/virtualenvs/logslicer-He69jZ8S-py3.9/lib/python3.9/site-packages/openai/api_resources/abstract/engine_api_resource.py:151\u001b[0m, in \u001b[0;36mEngineAPIResource.create\u001b[0;34m(cls, api_key, api_base, api_type, request_id, api_version, organization, **params)\u001b[0m\n\u001b[1;32m    129\u001b[0m \u001b[38;5;129m@classmethod\u001b[39m\n\u001b[1;32m    130\u001b[0m \u001b[38;5;28;01mdef\u001b[39;00m \u001b[38;5;21mcreate\u001b[39m(\n\u001b[1;32m    131\u001b[0m     \u001b[38;5;28mcls\u001b[39m,\n\u001b[0;32m   (...)\u001b[0m\n\u001b[1;32m    138\u001b[0m     \u001b[38;5;241m*\u001b[39m\u001b[38;5;241m*\u001b[39mparams,\n\u001b[1;32m    139\u001b[0m ):\n\u001b[1;32m    140\u001b[0m     (\n\u001b[1;32m    141\u001b[0m         deployment_id,\n\u001b[1;32m    142\u001b[0m         engine,\n\u001b[1;32m    143\u001b[0m         timeout,\n\u001b[1;32m    144\u001b[0m         stream,\n\u001b[1;32m    145\u001b[0m         headers,\n\u001b[1;32m    146\u001b[0m         request_timeout,\n\u001b[1;32m    147\u001b[0m         typed_api_type,\n\u001b[1;32m    148\u001b[0m         requestor,\n\u001b[1;32m    149\u001b[0m         url,\n\u001b[1;32m    150\u001b[0m         params,\n\u001b[0;32m--> 151\u001b[0m     ) \u001b[38;5;241m=\u001b[39m \u001b[38;5;28;43mcls\u001b[39;49m\u001b[38;5;241;43m.\u001b[39;49m\u001b[43m__prepare_create_request\u001b[49m\u001b[43m(\u001b[49m\n\u001b[1;32m    152\u001b[0m \u001b[43m        \u001b[49m\u001b[43mapi_key\u001b[49m\u001b[43m,\u001b[49m\u001b[43m \u001b[49m\u001b[43mapi_base\u001b[49m\u001b[43m,\u001b[49m\u001b[43m \u001b[49m\u001b[43mapi_type\u001b[49m\u001b[43m,\u001b[49m\u001b[43m \u001b[49m\u001b[43mapi_version\u001b[49m\u001b[43m,\u001b[49m\u001b[43m \u001b[49m\u001b[43morganization\u001b[49m\u001b[43m,\u001b[49m\u001b[43m \u001b[49m\u001b[38;5;241;43m*\u001b[39;49m\u001b[38;5;241;43m*\u001b[39;49m\u001b[43mparams\u001b[49m\n\u001b[1;32m    153\u001b[0m \u001b[43m    \u001b[49m\u001b[43m)\u001b[49m\n\u001b[1;32m    155\u001b[0m     response, _, api_key \u001b[38;5;241m=\u001b[39m requestor\u001b[38;5;241m.\u001b[39mrequest(\n\u001b[1;32m    156\u001b[0m         \u001b[38;5;124m\"\u001b[39m\u001b[38;5;124mpost\u001b[39m\u001b[38;5;124m\"\u001b[39m,\n\u001b[1;32m    157\u001b[0m         url,\n\u001b[0;32m   (...)\u001b[0m\n\u001b[1;32m    162\u001b[0m         request_timeout\u001b[38;5;241m=\u001b[39mrequest_timeout,\n\u001b[1;32m    163\u001b[0m     )\n\u001b[1;32m    165\u001b[0m     \u001b[38;5;28;01mif\u001b[39;00m stream:\n\u001b[1;32m    166\u001b[0m         \u001b[38;5;66;03m# must be an iterator\u001b[39;00m\n",
      "File \u001b[0;32m~/.cache/pypoetry/virtualenvs/logslicer-He69jZ8S-py3.9/lib/python3.9/site-packages/openai/api_resources/abstract/engine_api_resource.py:85\u001b[0m, in \u001b[0;36mEngineAPIResource.__prepare_create_request\u001b[0;34m(cls, api_key, api_base, api_type, api_version, organization, **params)\u001b[0m\n\u001b[1;32m     83\u001b[0m \u001b[38;5;28;01mif\u001b[39;00m typed_api_type \u001b[38;5;129;01min\u001b[39;00m (util\u001b[38;5;241m.\u001b[39mApiType\u001b[38;5;241m.\u001b[39mAZURE, util\u001b[38;5;241m.\u001b[39mApiType\u001b[38;5;241m.\u001b[39mAZURE_AD):\n\u001b[1;32m     84\u001b[0m     \u001b[38;5;28;01mif\u001b[39;00m deployment_id \u001b[38;5;129;01mis\u001b[39;00m \u001b[38;5;28;01mNone\u001b[39;00m \u001b[38;5;129;01mand\u001b[39;00m engine \u001b[38;5;129;01mis\u001b[39;00m \u001b[38;5;28;01mNone\u001b[39;00m:\n\u001b[0;32m---> 85\u001b[0m         \u001b[38;5;28;01mraise\u001b[39;00m error\u001b[38;5;241m.\u001b[39mInvalidRequestError(\n\u001b[1;32m     86\u001b[0m             \u001b[38;5;124m\"\u001b[39m\u001b[38;5;124mMust provide an \u001b[39m\u001b[38;5;124m'\u001b[39m\u001b[38;5;124mengine\u001b[39m\u001b[38;5;124m'\u001b[39m\u001b[38;5;124m or \u001b[39m\u001b[38;5;124m'\u001b[39m\u001b[38;5;124mdeployment_id\u001b[39m\u001b[38;5;124m'\u001b[39m\u001b[38;5;124m parameter to create a \u001b[39m\u001b[38;5;132;01m%s\u001b[39;00m\u001b[38;5;124m\"\u001b[39m\n\u001b[1;32m     87\u001b[0m             \u001b[38;5;241m%\u001b[39m \u001b[38;5;28mcls\u001b[39m,\n\u001b[1;32m     88\u001b[0m             \u001b[38;5;124m\"\u001b[39m\u001b[38;5;124mengine\u001b[39m\u001b[38;5;124m\"\u001b[39m,\n\u001b[1;32m     89\u001b[0m         )\n\u001b[1;32m     90\u001b[0m \u001b[38;5;28;01melse\u001b[39;00m:\n\u001b[1;32m     91\u001b[0m     \u001b[38;5;28;01mif\u001b[39;00m model \u001b[38;5;129;01mis\u001b[39;00m \u001b[38;5;28;01mNone\u001b[39;00m \u001b[38;5;129;01mand\u001b[39;00m engine \u001b[38;5;129;01mis\u001b[39;00m \u001b[38;5;28;01mNone\u001b[39;00m:\n",
      "\u001b[0;31mInvalidRequestError\u001b[0m: Must provide an 'engine' or 'deployment_id' parameter to create a <class 'openai.api_resources.chat_completion.ChatCompletion'>"
     ]
    }
   ],
   "source": [
    "responses = []\n",
    "messages = [\n",
    "    {\"role\": \"user\", \"content\": prompt},\n",
    "    {\n",
    "        \"role\": \"user\",\n",
    "        \"content\": \"To provide the context for the above prompt, I will send you text in parts. When I am finished, I will tell you 'ALL PARTS SENT'. Do not answer until you have received all the parts.\",\n",
    "    },\n",
    "]\n",
    "\n",
    "for chunk in chunks:\n",
    "    messages.append({\"role\": \"user\", \"content\": chunk})\n",
    "\n",
    "    # Check if total tokens exceed the model's limit and remove oldest chunks if necessary\n",
    "    while (\n",
    "        sum(len(tokenizer.encode(msg[\"content\"])) for msg in messages)\n",
    "        > model_token_limit\n",
    "    ):\n",
    "        messages.pop(1)  # Remove the oldest chunk\n",
    "\n",
    "    response = openai.ChatCompletion.create(engine=\"openai\", model=chat_model, messages=messages)\n",
    "    chatgpt_response = response.choices[0].message[\"content\"].strip()\n",
    "    responses.append(chatgpt_response)\n"
   ]
  },
  {
   "cell_type": "code",
   "execution_count": 32,
   "metadata": {},
   "outputs": [],
   "source": [
    "# Add the final \"ALL PARTS SENT\" message\n",
    "messages.append({\"role\": \"user\", \"content\": \"ALL PARTS SENT\"})\n",
    "response = openai.ChatCompletion.create(engine=\"openai\", model=chat_model, messages=messages)\n",
    "final_response = response.choices[0].message[\"content\"].strip()\n",
    "responses.append(final_response)"
   ]
  },
  {
   "cell_type": "code",
   "execution_count": 33,
   "metadata": {},
   "outputs": [
    {
     "data": {
      "text/plain": [
       "[\"# Log Summary\\n\\n### Identified Errors & Warnings:\\n1. Failed to get property value recurring error on line 35 in [csp_property_getter.h file](bazel-out/k8-opt-ST-d9fd4f79f947/bin/deployment/z2_vcc_spa2/service_agents/communication/common/csp/_virtual_includes/csp_property_getter/common/csp_property_getter.h). The error code is -1, referred to as `kFailure`.\\n2. Several `Cannot get() IMURawAngularVelocity` and similar errors from `hal-srs-monitor` with error code -10.\\n3. Discarded retransmit requests due to wrong bus state in `gateway_control::bus_request_private` component.\\n4. Recurrent issue with `Hib Zen Interface reading GetCurrentOnePilotMode` recording a `kFailure`.\\n5. SafeState for device 'DIM\",\n",
       " \"### Log Summary\\n\\n#### Warnings & Errors\\n\\n1. There's a failure in retrieving property value due to an error -1 (`kFailure`) in the file `csp_property_getter.h` on line 35.\\n\\n2. The gateway control component is continuously discarding retransmit requests due to incorrect bus state.\\n\\n3. The `Hib Zen Interface` is facing issues in reading `GetCurrentOnePilotMode` - Throws `kFailure` error code.\\n\\n4. Quality::kError is reported, indicating a fault state.\\n\\n5. Vehicle Speed Certified status is not valid (Current Status: 0) and failure to read the odometer distance property.\\n\\n6. `ForwardAmbientLightLevel` status is not valid.\\n\\n7. Errors reported in communication to several signals, indicating lost communication.\\n\\n8. Log throttler showing suppressed messages due to unavailable motion trail point.\\n\\n9. Safe\",\n",
       " '# Log Summary:\\n\\nThere are several errors and warnings in this log that need to be addressed. \\n\\n### Errors:\\n\\n1. `hal-srs-monitor` is failing to retrieve IMUAccelerationDifferentiated, IMUMeasurementUnitInformation, IMURawAngularVelocity, IMUAngularVelocityCompensated, IMUAngularVelocityDifferentiated, IMURawAcceleration, IMUAccelerationDifferentiated, and IMUMeasurementUnitInformation from the system. All errors are defined as -10. \\n2. `csp_property_getter.h` failed to get property value groups `feature_modes` twice with the `kFailure` (-1) error.\\n3. Numerous plugins are defined as (inactive) which may suggest improper configuration or they are not being utilized.\\n   \\n### Warnings:\\n\\n1. High number of missed deadlines: `pscm_10ms` task ran 86907 times with',\n",
       " '# Log Summary\\n\\nThe system seems to be experiencing multiple issues. Below is the summary of the problem areas:\\n\\n### 1. Failed Tasks and Plugin Errors:\\n\\nTask plugin errors from \"/opt/mri/lib/dataforwarder/plugins/qm1\" are inactive showing last durations and maximum durations are zero. \\n\\n### 2. Inactive Monitoring:\\n\\n`hal-srs-monitor` consistently returns an error code of `-10` while accessing various IMU elements such as `IMURawAngularVelocity`, `IMUAngularVelocityCompensated` and `IMUMeasurementUnitInformation`. Please verify if telemetry services are correctly functioning.\\n\\n### 3. Bus State Errors:\\n\\nFrequent retransmit requests were discarded due to wrong bus state.\\n\\n### 4. Property Value Fetching Errors:\\n\\nNumerous attempt to fetch property value with `group=feature_modes` using the csp property getter have failed.\\n\\n###',\n",
       " '# Log Summary\\n## Errors\\n1. Repeated failures in obtaining property value from the `csp_property_getter.h`. (Error Code: -1(kFailure))\\n2. Communication issues with `Hib Zen Interface` while reading `GetCurrentOnePilotMode`.\\n3. `SafeState` not fulfilled for `DIMD` device, with `PDBox` inactive and the device in error state.\\n4. Repeated instances of `gateway_control::bus_request_private` being unable to carry out `retransmit requests` due to incorrect bus state.\\n5. Unfulfilled mode transition for both `passenger box` and `back box` even after excessive delay times.\\n6. Failure to correctly read `odometer distance property` and `ForwardAmbientLightLevel` status.\\n7. Ongoing issues with obtaining various metrics from `hal-srs-monitor`. (Error Code: -',\n",
       " '# Log Summary\\n\\n1. Errors related to getting data from `hal-srs-monitor` encountered frequently (`IMURawAngularVelocity`, `IMUAngularVelocityCompensated`, `IMUAngularVelocityDifferentiated`, `IMURawAcceleration`, `IMUAccelerationDifferentiated`, `IMUMeasurementUnitInformation`). This might indicate an issue with this service. Please check the health status and validate sensor data.\\n\\n2. Multiples errors with the error code `kFailure`. The most common one is in `GetCurrentOnePilotMode` in `Hib Zen` Interface. The second one is in getting property value (group=feature_modes) from the `csp_property_getter` service. Might indicate a backend issue that should be addressed ASAP.\\n\\n3. Issue with `ForwardAmbientLightLevel` status. This needs a closer look as we received multiple complaints about its status.\\n\\n4.',\n",
       " \"# Log Summary\\n\\nThe logfile seems to indicate the following key issue:\\n\\n1. Failed attempts while fetching the sensor values from 'hal-srs-monitor' which result in error: -10. These failure attempts are frequent for getting:\\n   - `IMURawAngularVelocity`\\n   - `IMUAngularVelocityCompensated`\\n   - `IMUAngularVelocityDifferentiated`\\n   - `IMURawAcceleration`\\n   - `IMUAccelerationDifferentiated`\\n   - `IMUMeasurementUnitInformation`\\n   \\n2. Hib Zen Interface frequently fails to read the `GetCurrentOnePilotMode` throwing an error code: kFailure.\\n\\n3. Bazels output includes a frequent error of failing to get the property value in the 'feature_modes' group with an error code of -1(kFailure).\\n\\n4. Several instances of connection retries were scheduled, which indicates network or service disruptions.\\n\\n5. Warnings\",\n",
       " \"# Log Summary\\n\\n## Errors\\n\\n1. **Failed to get property value** (file: csp_property_getter.h, line 35): This error occurs multiple times and is related to 'feature_modes' property. The error code is kFailure(-1). Since this error is recurring, there seems to be a persistent issue with accessing this value.\\n\\n2. **Hib Zen Interface**: An operation to read GetCurrentOnePilotMode is failing repeatedly with the error code kFailure.\\n\\n3. **gateway_control::bus_request_private**: Multiple retransmit requests are being discarded due to wrong bus state.\\n\\n4. **Quality::kError**: This fault state is being indicated multiple times throughout the log.\\n\\n5. **Received ForwardAmbientLightLevel status** is not ok!\\n\\n6. **SafeState for device DIMD not fulfilled**: PDBox active false, in error state true.\\n\\n7. **Cannot get IMURawAngularVelocity, IMUAngularVelocityCompensated, IMUAngularVelocityDifferentiated, IMURawAcceleration, IMUAccelerationDifferentiated, IMUMeasurementUnitInformation from hal-srs-monitor!**: Error code is -10.\\n\\n8. **Device Proxy Default:Shared Send**: Error while sending queued cyclic frames (-1).\\n\\n9. **Routing info for remote service not found** (13ff): [01fe.0001.0001] 0310\\n\\n\\n## Warnings\\n\\n1. **Message limit exceeded**: There was a loss of 406 messages at one point.\\n\\n2. **UdsFirewallProxy is uninitialized or unavailable**,\",\n",
       " '# Log Summary\\n\\nThe [log](http://dummyurl) contains a repetitive pattern of errors and warnings. \\n\\n## Problem Detective\\n1. **Invalid property value**: Property value fails to get retrieved from `group=feature_modes` resulting in an error `kFailure`. \\n    * File: common/csp_property_getter.h at Line 35.\\n    * Error Code: -1 \\n    * Effect: [Hib Zen Interface reading GetCurrentOnePilotMode](http://dummyurl)\\n    \\n2. **Discarded requests**: The gateway control is discarding retransmit requests due to incorrect bus state. It impacts the effective processing of data through the system bus. \\n\\n3. **Quality Check**: The log shows a frequent occurrence of `Quality::kError` signals that indicate a fault state.\\n\\n4. **Transmitting Errors**: The `Device Proxy Default: Shared Send` shows an error while sending queued cyclic frames.\\n\\n5. **Communication problem**: Multiple `Cannot get()` errors showed that the system failed to communicate with `hal-srs-monitor`.\\n\\n6. **Vehicle**: There are constant errors for methods attempting vehicle features connected with the Interface (`ForwardAmbientLightLevel` and `Speed Certified status`).\\n\\n## Suggestions\\n1. **Debug the Property Getter**: Check the logic that fetches property values in the `common/csp_property_getter.h` file. There might be a logical error or a wrong value being used.\\n\\n2. **Check System Bus**: The system bus states']"
      ]
     },
     "execution_count": 33,
     "metadata": {},
     "output_type": "execute_result"
    }
   ],
   "source": [
    "responses"
   ]
  },
  {
   "cell_type": "code",
   "execution_count": 36,
   "metadata": {},
   "outputs": [],
   "source": [
    "# write to a markdown file\n",
    "with open(\"test.md\", 'w') as f:\n",
    "    f.write(\"\\n\\n\".join(responses))"
   ]
  },
  {
   "cell_type": "code",
   "execution_count": null,
   "metadata": {},
   "outputs": [],
   "source": []
  }
 ],
 "metadata": {
  "kernelspec": {
   "display_name": "Python 3 (ipykernel)",
   "language": "python",
   "name": "python3"
  },
  "language_info": {
   "codemirror_mode": {
    "name": "ipython",
    "version": 3
   },
   "file_extension": ".py",
   "mimetype": "text/x-python",
   "name": "python",
   "nbconvert_exporter": "python",
   "pygments_lexer": "ipython3",
   "version": "3.9.18"
  }
 },
 "nbformat": 4,
 "nbformat_minor": 4
}
