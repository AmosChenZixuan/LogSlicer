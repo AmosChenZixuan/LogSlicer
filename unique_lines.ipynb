{
 "cells": [
  {
   "cell_type": "code",
   "execution_count": 1,
   "metadata": {},
   "outputs": [],
   "source": [
    "# keep only unique lines\n",
    "from loaders import DLTLoader\n",
    "\n",
    "d = DLTLoader(\"logs/HPA_partnumber not updated.dlt\")\n",
    "msgs = d.get_messages()"
   ]
  },
  {
   "cell_type": "code",
   "execution_count": 2,
   "metadata": {},
   "outputs": [
    {
     "data": {
      "text/plain": [
       "590698"
      ]
     },
     "execution_count": 2,
     "metadata": {},
     "output_type": "execute_result"
    }
   ],
   "source": [
    "num_msg = len(msgs)\n",
    "num_msg"
   ]
  },
  {
   "cell_type": "code",
   "execution_count": 3,
   "metadata": {},
   "outputs": [],
   "source": [
    "unique = set()\n",
    "with open(\"logs/dlt_raw.txt\", \"w\") as raw, open(\"logs/dlt_compact.txt\", \"w\") as compact:\n",
    "\n",
    "    for i in range(num_msg):\n",
    "        print(str(msgs[i]), file=raw)\n",
    "\n",
    "        payload = msgs[i].payload_decoded\n",
    "        if payload in unique:\n",
    "            continue\n",
    "        print(str(msgs[i]), file=compact)\n",
    "        unique.add(payload)  \n"
   ]
  },
  {
   "cell_type": "code",
   "execution_count": null,
   "metadata": {},
   "outputs": [],
   "source": []
  }
 ],
 "metadata": {
  "kernelspec": {
   "display_name": "logslicer-He69jZ8S-py3.9",
   "language": "python",
   "name": "python3"
  },
  "language_info": {
   "codemirror_mode": {
    "name": "ipython",
    "version": 3
   },
   "file_extension": ".py",
   "mimetype": "text/x-python",
   "name": "python",
   "nbconvert_exporter": "python",
   "pygments_lexer": "ipython3",
   "version": "3.9.18"
  }
 },
 "nbformat": 4,
 "nbformat_minor": 2
}
